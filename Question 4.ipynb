{
 "cells": [
  {
   "cell_type": "code",
   "execution_count": null,
   "id": "9c6fa300",
   "metadata": {},
   "outputs": [],
   "source": [
    "Question 4: Use Webscraping to Extract GME Revenue Data"
   ]
  },
  {
   "cell_type": "code",
   "execution_count": 1,
   "id": "72ba748a",
   "metadata": {},
   "outputs": [
    {
     "name": "stdout",
     "output_type": "stream",
     "text": [
      "Table body found\n",
      "Number of rows: 25\n",
      "   Fiscal Year End  Revenue   Change  Growth\n",
      "20    Jan 31, 2003    1.35B  231.65M  20.66%\n",
      "21    Jan 31, 2002    1.12B  364.44M  48.16%\n",
      "22    Jan 31, 2001  756.70M  203.56M  36.80%\n",
      "23    Jan 31, 2000  553.14M  169.78M  44.29%\n",
      "24    Jan 31, 1998  383.36M        -       -\n"
     ]
    }
   ],
   "source": [
    "import pandas as pd\n",
    "import requests\n",
    "from bs4 import BeautifulSoup\n",
    "\n",
    "# URL of the webpage to scrape\n",
    "url = 'https://stockanalysis.com/stocks/gme/revenue/'\n",
    "\n",
    "# Send an HTTP GET request to the webpage\n",
    "data = requests.get(url).text\n",
    "\n",
    "# Parse the HTML content\n",
    "soup = BeautifulSoup(data, 'html.parser')\n",
    "\n",
    "# Create an empty list to store the scraped data\n",
    "rows_data = []\n",
    "\n",
    "# Find the table body (tbody) containing the revenue data\n",
    "table_body = soup.find(\"tbody\")\n",
    "\n",
    "# Check if table_body is not None to avoid errors\n",
    "if table_body:\n",
    "    print(\"Table body found\")  # Debugging statement\n",
    "    \n",
    "    # Extract rows from the table body\n",
    "    rows = table_body.find_all('tr')\n",
    "    print(f\"Number of rows: {len(rows)}\")  # Debugging statement\n",
    "\n",
    "    # Loop through each row\n",
    "    for row in rows:\n",
    "        # Extract data from each column (td) in the row\n",
    "        cols = row.find_all(\"td\")\n",
    "        if len(cols) == 4:  # Make sure we have all columns\n",
    "            date = cols[0].text.strip()\n",
    "            revenue = cols[1].text.strip()\n",
    "            change = cols[2].text.strip()\n",
    "            growth = cols[3].text.strip()\n",
    "\n",
    "            # Print the extracted data for debugging\n",
    "           # print(f\"Date: {date}, Revenue: {revenue}, Change: {change}, Growth: {growth}\")\n",
    "\n",
    "            # Append the data to the list of dictionaries\n",
    "            rows_data.append({\"Fiscal Year End\": date, \"Revenue\": revenue, \"Change\": change, \"Growth\": growth})\n",
    "\n",
    "# Create a DataFrame from the list of dictionaries\n",
    "tesla_revenue_data = pd.DataFrame(rows_data)\n",
    "\n",
    "# Print the DataFrame\n",
    "print(tesla_revenue_data.tail())\n"
   ]
  },
  {
   "cell_type": "code",
   "execution_count": null,
   "id": "8448e1f4",
   "metadata": {},
   "outputs": [],
   "source": []
  }
 ],
 "metadata": {
  "kernelspec": {
   "display_name": "Python 3 (ipykernel)",
   "language": "python",
   "name": "python3"
  },
  "language_info": {
   "codemirror_mode": {
    "name": "ipython",
    "version": 3
   },
   "file_extension": ".py",
   "mimetype": "text/x-python",
   "name": "python",
   "nbconvert_exporter": "python",
   "pygments_lexer": "ipython3",
   "version": "3.11.5"
  }
 },
 "nbformat": 4,
 "nbformat_minor": 5
}
